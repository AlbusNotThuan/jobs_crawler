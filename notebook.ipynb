{
 "cells": [
  {
   "cell_type": "code",
   "execution_count": 1,
   "id": "6cd6ae78",
   "metadata": {},
   "outputs": [],
   "source": [
    "import pandas as pd\n"
   ]
  },
  {
   "cell_type": "code",
   "execution_count": 2,
   "id": "ceeba9ee",
   "metadata": {},
   "outputs": [
    {
     "name": "stdout",
     "output_type": "stream",
     "text": [
      "<class 'pandas.core.frame.DataFrame'>\n",
      "RangeIndex: 20 entries, 0 to 19\n",
      "Data columns (total 7 columns):\n",
      " #   Column       Non-Null Count  Dtype \n",
      "---  ------       --------------  ----- \n",
      " 0   Hash         20 non-null     object\n",
      " 1   Title        20 non-null     object\n",
      " 2   Company      20 non-null     object\n",
      " 3   Location     20 non-null     object\n",
      " 4   Description  20 non-null     object\n",
      " 5   Skills       20 non-null     object\n",
      " 6   Link         20 non-null     object\n",
      "dtypes: object(7)\n",
      "memory usage: 1.2+ KB\n"
     ]
    }
   ],
   "source": [
    "df = pd.read_csv('output/2025-06-05_155815_itviec_jobs.csv')\n",
    "df.info()"
   ]
  },
  {
   "cell_type": "code",
   "execution_count": 3,
   "id": "4a51b92e",
   "metadata": {},
   "outputs": [
    {
     "data": {
      "text/plain": [
       "0                      Backend Developer (Golang/ Java)\n",
       "1                    UI Frontend Engineer (HTML/CSS/UX)\n",
       "2              Java Developer (Spring, OOP) Up to $2000\n",
       "3     Senior Solution Architect & Tech Director (Pyt...\n",
       "4     Automation Test Engineer (Java, Tester, QA QC)...\n",
       "5                 Scrum Master (Project Manager, Agile)\n",
       "6     Senior Native Mobile Developer (Swift & Kotlin...\n",
       "7                                  Embedded AI Engineer\n",
       "8                             Senior Frontend Developer\n",
       "9     Junior/Mid Fullstack Engineer (TypeScript/Java...\n",
       "10    [Remote or Hybrid] Golang / Go - Up to 100M/month\n",
       "11                    Platform Manager (CDN ecosystems)\n",
       "12                            [Ho Chi Minh] IT Helpdesk\n",
       "13       Bridge Project Manager (BrSE/ IT Communicator)\n",
       "14     Senior QC Engineer (QA QC, Tester, iOS, Android)\n",
       "15    Senior Full-Stack Developer (Node.js, ReactJS,...\n",
       "16                Fullstack Developer Python/ReactJS/AI\n",
       "17    Platform Engineering (strong knowledge of mode...\n",
       "18    Senior Backend Developer (PHP, Laravel, MySQL,...\n",
       "19                            System Admin (Linux, AWS)\n",
       "Name: Title, dtype: object"
      ]
     },
     "execution_count": 3,
     "metadata": {},
     "output_type": "execute_result"
    }
   ],
   "source": [
    "df['Title']"
   ]
  },
  {
   "cell_type": "code",
   "execution_count": null,
   "id": "7e09b35a",
   "metadata": {},
   "outputs": [],
   "source": []
  }
 ],
 "metadata": {
  "kernelspec": {
   "display_name": "jobcrawler",
   "language": "python",
   "name": "python3"
  },
  "language_info": {
   "codemirror_mode": {
    "name": "ipython",
    "version": 3
   },
   "file_extension": ".py",
   "mimetype": "text/x-python",
   "name": "python",
   "nbconvert_exporter": "python",
   "pygments_lexer": "ipython3",
   "version": "3.11.11"
  }
 },
 "nbformat": 4,
 "nbformat_minor": 5
}

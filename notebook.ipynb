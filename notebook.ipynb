{
 "cells": [
  {
   "cell_type": "code",
   "execution_count": 1,
   "id": "6cd6ae78",
   "metadata": {},
   "outputs": [],
   "source": [
    "import pandas as pd\n"
   ]
  },
  {
   "cell_type": "code",
   "execution_count": 5,
   "id": "ceeba9ee",
   "metadata": {},
   "outputs": [
    {
     "name": "stdout",
     "output_type": "stream",
     "text": [
      "<class 'pandas.core.frame.DataFrame'>\n",
      "RangeIndex: 954 entries, 0 to 953\n",
      "Data columns (total 12 columns):\n",
      " #   Column                   Non-Null Count  Dtype \n",
      "---  ------                   --------------  ----- \n",
      " 0   JobID                    954 non-null    object\n",
      " 1   Title                    954 non-null    object\n",
      " 2   Company                  954 non-null    object\n",
      " 3   Salary                   954 non-null    object\n",
      " 4   Location                 954 non-null    object\n",
      " 5   Posted_Date              954 non-null    object\n",
      " 6   Job_Expertise            954 non-null    object\n",
      " 7   Skills                   954 non-null    object\n",
      " 8   Benefits                 954 non-null    object\n",
      " 9   Description              954 non-null    object\n",
      " 10  Experience_Requirements  954 non-null    object\n",
      " 11  Link                     954 non-null    object\n",
      "dtypes: object(12)\n",
      "memory usage: 89.6+ KB\n"
     ]
    }
   ],
   "source": [
    "df = pd.read_csv('output/2025-07-30_211211_itviec_jobs.csv')\n",
    "df.info()"
   ]
  },
  {
   "cell_type": "code",
   "execution_count": 6,
   "id": "4a51b92e",
   "metadata": {},
   "outputs": [
    {
     "data": {
      "text/plain": [
       "array(['Fullstack Developer', 'Frontend Developer',\n",
       "       'Desktop Application Developer', 'Mobile Application Developer',\n",
       "       'Manual Tester', 'Manager', 'Data Scientist', 'Network Engineer',\n",
       "       'Product Owner', 'DevOps Engineer', 'Database Administrator',\n",
       "       'Backend Developer', 'DevSecOps Engineer',\n",
       "       'Scrum Master / Agile Coach', 'IT Support',\n",
       "       'Application Security Engineer', 'AI / Machine Learning Engineer',\n",
       "       'Business Analyst', 'Automation Tester',\n",
       "       'Test Coordinator / QAQC Coordinator',\n",
       "       'Systems Engineer / Administrator',\n",
       "       'Banking & Financial Systems Developer', 'Cloud Engineer',\n",
       "       'Game Designer', 'Embedded Engineer', 'Game Developer',\n",
       "       'Software/Technical Architect', 'Data Analyst',\n",
       "       'Security Engineer', 'Data Engineer', 'Pre-sales Engineer',\n",
       "       'Project Manager', 'Product Manager', 'BI Analyst / BI Developer',\n",
       "       'Bridge System Engineer (BrSE)', 'Data Architect',\n",
       "       'Data Governance Specialist', 'Vice President / Director',\n",
       "       'C-level (CTO, CIO, CISO, CDO)', 'Visual / Graphic Designer',\n",
       "       'Product Designer', 'RPA Engineer',\n",
       "       'Site Reliability Engineer (SRE)', 'UX/UI Designer',\n",
       "       'Enterprise Application Developer (CRM)', 'Enterprise Architect',\n",
       "       'Solution Architect', 'AI Researcher',\n",
       "       'Software Engineer in Test (SDET)', 'ERP Developer',\n",
       "       'Game Producer / Director', 'IT Consultant',\n",
       "       'Low-Code/No-Code Developer', 'Blockchain Developer',\n",
       "       'Game Tester', 'SysOps Engineer', 'Computer Vision Engineer',\n",
       "       'Integration & Legacy Systems Developer',\n",
       "       'Performance / Load Tester', 'IT Administrator',\n",
       "       'IT Auditor / IT Risk Manager',\n",
       "       'Security Tester / Penetration Tester',\n",
       "       'Hardware-Software Integration Engineer', 'IT Helpdesk',\n",
       "       'Not specified',\n",
       "       'Enterprise Application Consultant (CRM / HCM / SCM and other enterprise solutions)',\n",
       "       'ERP Consultant', 'Security Consultant'], dtype=object)"
      ]
     },
     "execution_count": 6,
     "metadata": {},
     "output_type": "execute_result"
    }
   ],
   "source": [
    "df['Job_Expertise'].unique()"
   ]
  },
  {
   "cell_type": "code",
   "execution_count": null,
   "id": "7e09b35a",
   "metadata": {},
   "outputs": [],
   "source": []
  }
 ],
 "metadata": {
  "kernelspec": {
   "display_name": "jobcrawler",
   "language": "python",
   "name": "python3"
  },
  "language_info": {
   "codemirror_mode": {
    "name": "ipython",
    "version": 3
   },
   "file_extension": ".py",
   "mimetype": "text/x-python",
   "name": "python",
   "nbconvert_exporter": "python",
   "pygments_lexer": "ipython3",
   "version": "3.11.11"
  }
 },
 "nbformat": 4,
 "nbformat_minor": 5
}
